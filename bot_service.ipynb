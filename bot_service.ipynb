{
 "cells": [
  {
   "cell_type": "code",
   "execution_count": 1,
   "metadata": {},
   "outputs": [
    {
     "name": "stdout",
     "output_type": "stream",
     "text": [
      "init\n"
     ]
    }
   ],
   "source": [
    "from services.dbconnection import DbService \n",
    "dbservice = DbService()"
   ]
  },
  {
   "cell_type": "markdown",
   "metadata": {},
   "source": [
    "### booking a new appointment ##\n",
    "\n",
    "*** to book an appointment we need the service and preferred date. Based on the date we will retrieve the available slots \n",
    "\n",
    "\n",
    "Assumption: The bot will be serving a specific company  eg. company_id = 3\n",
    "\n",
    "A company has many services. To retrieve the main services pass in company_id\n",
    "\n",
    "intent: book_appointment\n",
    "\n",
    "Bot flow : \n",
    "- User selects a service \n",
    "- User picks a preferred date (ask the user to select a date within 7 dates from now)\n",
    "- Bot retrieves available slots \n",
    "- User selects a preferred slot \n",
    "- Ask for the name \n",
    "- Confirm the appointment date and time \n",
    "- save the appointment "
   ]
  },
  {
   "cell_type": "markdown",
   "metadata": {},
   "source": []
  },
  {
   "cell_type": "code",
   "execution_count": null,
   "metadata": {},
   "outputs": [],
   "source": [
    "dbservice = DbService()\n",
    "company_id = 3 \n",
    "dbservice.list_main_services(company_id)"
   ]
  },
  {
   "cell_type": "markdown",
   "metadata": {},
   "source": [
    "Helper functions needed to display available slots given a specific date\n",
    "\n"
   ]
  },
  {
   "cell_type": "code",
   "execution_count": null,
   "metadata": {},
   "outputs": [],
   "source": [
    "dbservice = DbService()\n",
    "from datetimerange import DateTimeRange\n",
    "import datetime as dt\n",
    "from datetime import datetime\n",
    "from datetime import time\n",
    "from errno import ETIME\n",
    "DURATION = 30\n",
    "def getNameOfWeek(n):\n",
    "    if n == 0:\n",
    "        return 'Monday'\n",
    "    if n == 1:\n",
    "        return 'Tuesday'\n",
    "    if n == 2:\n",
    "        return 'Wednesday'\n",
    "    if n == 3:\n",
    "        return 'Thursday'\n",
    "    if n == 4:\n",
    "        return 'Thursday'\n",
    "    if n == 5:\n",
    "        return 'Saturday'\n",
    "    if n == 6:\n",
    "        return 'Sunday'\n",
    "\n",
    "def get_valid_slots_by_day(start_apt_date, days_of_week):\n",
    "    day_name = getNameOfWeek(start_apt_date.weekday()).lower()\n",
    "    for item in days_of_week:\n",
    "        if item['title'].lower() == day_name:\n",
    "            final_slots = []\n",
    "            for timerange in item['timings']:\n",
    "                start_date_time = datetime.combine(start_apt_date.date(), time.fromisoformat(timerange['start']))\n",
    "                end_date_time = datetime.combine(start_apt_date.date(), time.fromisoformat(timerange['end']))\n",
    "                while start_date_time + dt.timedelta(minutes=DURATION) <= end_date_time:\n",
    "                      final_slots.append(start_date_time)\n",
    "                      start_date_time = start_date_time + dt.timedelta(minutes=DURATION)\n",
    "\n",
    "            return final_slots\n",
    "\n",
    "    return []\n",
    "\n",
    "def get_available_slots(date_of_interest,appointments, working_days, exception_dates, duration=30):\n",
    "    \n",
    "    available_slots = get_valid_slots_by_day(date_of_interest,working_days['info']['days'])\n",
    "    final_slots = []\n",
    "    if len(available_slots) > 0:\n",
    "        for slot in available_slots:\n",
    "            available_slot_start_time = slot + dt.timedelta(minutes=1)\n",
    "            available_slot_end_time = slot + dt.timedelta(minutes=DURATION - 1)\n",
    "            time_range1 = DateTimeRange(available_slot_start_time, available_slot_end_time)\n",
    "            is_available = True\n",
    "            for appointment in appointments:\n",
    "                    start_time = appointment['appointment_date'] \n",
    "                    end_time =   appointment['appointment_date'] + dt.timedelta(minutes=DURATION)\n",
    "                    time_range2 = DateTimeRange(start_time,end_time) \n",
    "                    if time_range1.intersection(time_range2).start_datetime != None:\n",
    "                       is_available = False\n",
    "                       break\n",
    "                    for exc_date in exception_dates:\n",
    "                        start_time = exc_date['exception_from_date'] \n",
    "                        end_time =   exc_date['exception_to_date'] \n",
    "                        time_range2 = DateTimeRange(start_time,end_time) \n",
    "                        if time_range1.intersection(time_range2).start_datetime != None:\n",
    "                            is_available = False\n",
    "                            break\n",
    "            if is_available:\n",
    "                final_slots.append(slot)\n",
    "                \n",
    "\n",
    "    return final_slots\n",
    "\n",
    "def get_available_slots_by_date(date_of_interest, service_def_id):\n",
    "    appointments = dbservice.list_valid_appointments_by_date(3,date_of_interest)\n",
    "    exception_dates = dbservice.list_service_working_hrs_exception_by_date(service_def_id, date_of_interest)\n",
    "    working_days = dbservice.list_service_working_days(service_def_id)\n",
    "    slots = get_available_slots(date_of_interest,appointments, working_days, exception_dates, duration=30)\n",
    "    return slots\n",
    "\n",
    "\n"
   ]
  },
  {
   "cell_type": "markdown",
   "metadata": {},
   "source": [
    "Display available slots given a service definition id (each service def is unique)"
   ]
  },
  {
   "cell_type": "code",
   "execution_count": null,
   "metadata": {},
   "outputs": [],
   "source": [
    "from services.dbconnection import DbService \n",
    "\n",
    "date_of_interest = datetime.strptime(\"25-11-2022 00:00:00\",'%d-%m-%Y %H:%M:%S')\n",
    "service_def_id = 3   ## belongs to company_id 3\n",
    "slots = get_available_slots_by_date(date_of_interest, service_def_id)\n",
    "slots"
   ]
  },
  {
   "cell_type": "markdown",
   "metadata": {},
   "source": [
    "#### canceling an appointment ####\n",
    "Intent : cancel_appointment\n",
    "\n",
    "The flow: \n",
    "- Bot Retrieves valid upcoming appointments given a phone number and fromdate (usually todays date)\n",
    "- The user selects and confirms the appointment to cancel \n",
    "- Update the appointment status to 3 (cancelled) "
   ]
  },
  {
   "cell_type": "code",
   "execution_count": null,
   "metadata": {},
   "outputs": [],
   "source": [
    "## retrieve valid appointments by phone and from date \n",
    "from services.dbconnection import DbService \n",
    "dbservice = DbService()\n",
    "from datetime import datetime\n",
    "from_date = datetime.today()\n",
    "customer_phone = \"123456\"\n",
    "appointments = dbservice.list_customer_valid_appointments_by_phone(from_date,customer_phone)\n",
    "appointment_id = 1\n",
    "status = 3 ## cancelled\n",
    "dbservice.update_appointment_status(appointment_id, status)"
   ]
  },
  {
   "cell_type": "markdown",
   "metadata": {},
   "source": [
    "### View upcoming appointments ### \n",
    "\n",
    "intent : view_appointment\n",
    "\n",
    "- Bot Retrieves valid upcoming appointments given a phone number and fromdate (usually todays date)\n"
   ]
  },
  {
   "cell_type": "code",
   "execution_count": 5,
   "metadata": {},
   "outputs": [],
   "source": [
    "### View upcoming appointments ### \n",
    "from services.dbconnection import DbService \n",
    "dbservice = DbService()\n",
    "from datetime import datetime\n",
    "from_date = datetime.today()\n",
    "customer_phone = \"123456\"\n",
    "\n",
    "appointments = dbservice.list_customer_valid_appointments_by_phone(from_date,customer_phone)\n"
   ]
  },
  {
   "cell_type": "markdown",
   "metadata": {},
   "source": [
    "### View promotions ###\n",
    "Bot flow\n",
    " \n",
    "intent : view_promotion\n",
    "\n",
    "display promotion_text"
   ]
  },
  {
   "cell_type": "code",
   "execution_count": 7,
   "metadata": {},
   "outputs": [
    {
     "data": {
      "text/plain": [
       "[{'id': 1,\n",
       "  'company_id': 3,\n",
       "  'title': 'تخفيضات العيد',\n",
       "  'promotion_text': 'تخفيضات تصل الى 40% على جميع الخدمات لغاية نهاية الشهر',\n",
       "  'active': 1}]"
      ]
     },
     "execution_count": 7,
     "metadata": {},
     "output_type": "execute_result"
    }
   ],
   "source": [
    "company_id = 3\n",
    "dbservice.list_valid_promotions(company_id)"
   ]
  },
  {
   "cell_type": "markdown",
   "metadata": {},
   "source": [
    "Insert Suggestion: \n",
    "\n",
    "Intent: suggestion\n",
    "\n",
    "- save the suggestion to db "
   ]
  },
  {
   "cell_type": "code",
   "execution_count": null,
   "metadata": {},
   "outputs": [],
   "source": [
    "dbservice = DbService()\n",
    "\n",
    "dbservice.insert_suggestion(3,\"nadir\",\"123456\",\"the waiting room is very crowdedS\")"
   ]
  },
  {
   "cell_type": "code",
   "execution_count": null,
   "metadata": {},
   "outputs": [],
   "source": []
  }
 ],
 "metadata": {
  "kernelspec": {
   "display_name": "Python 3.9.5 ('myvenv': venv)",
   "language": "python",
   "name": "python3"
  },
  "language_info": {
   "codemirror_mode": {
    "name": "ipython",
    "version": 3
   },
   "file_extension": ".py",
   "mimetype": "text/x-python",
   "name": "python",
   "nbconvert_exporter": "python",
   "pygments_lexer": "ipython3",
   "version": "3.9.5"
  },
  "orig_nbformat": 4,
  "vscode": {
   "interpreter": {
    "hash": "67a3c7aaa7fa1339781785b4e70b04db7d2774a5699bd9dd665cf193c161129d"
   }
  }
 },
 "nbformat": 4,
 "nbformat_minor": 2
}
