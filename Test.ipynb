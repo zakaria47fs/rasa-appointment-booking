{
 "cells": [
  {
   "cell_type": "code",
   "execution_count": 1,
   "metadata": {},
   "outputs": [
    {
     "name": "stdout",
     "output_type": "stream",
     "text": [
      "init\n"
     ]
    }
   ],
   "source": [
    "from services.dbconnection import DbService \n",
    "dbservice = DbService()\n",
    "\n"
   ]
  },
  {
   "cell_type": "markdown",
   "metadata": {},
   "source": [
    "INSERT / UPDATE SERVICE DEFINITION"
   ]
  },
  {
   "cell_type": "code",
   "execution_count": 3,
   "metadata": {},
   "outputs": [],
   "source": [
    "### insert service definition example ###\n",
    "info = {\n",
    "    \"title\": \"skin treatments\",\n",
    "    \"description\" :\"skin treatments\",\n",
    "    \"ar_title\" : \"علاجات الجلد\",\n",
    "    \"ar_description\": \"علاجات الجلد\",\n",
    "    \"keywords\": [\"skin\", \"laser skin\",\"skin treatments\",\"facial\"],\n",
    "    \"ar_keywords\": [\"تفتيح البشرة\", \"جلد\",\"جلدية\",\"فايشال\"] \n",
    "}\n",
    "\n",
    "\n",
    "dbservice.insert_service_definition(3,\"علاجات البشرة\",True, info)\n",
    "#dbservice.update_service_definition(3,\"skin treatments\",True, info)"
   ]
  },
  {
   "cell_type": "code",
   "execution_count": null,
   "metadata": {},
   "outputs": [],
   "source": []
  },
  {
   "cell_type": "markdown",
   "metadata": {},
   "source": [
    "LIST MAIN SERVICES (SERVICE DEFINITION)"
   ]
  },
  {
   "cell_type": "code",
   "execution_count": null,
   "metadata": {},
   "outputs": [],
   "source": [
    "from dbconnection import DbService \n",
    "dbservice = DbService()\n",
    "\n",
    "dbservice.list_main_services(2)"
   ]
  },
  {
   "cell_type": "code",
   "execution_count": null,
   "metadata": {},
   "outputs": [],
   "source": []
  },
  {
   "cell_type": "markdown",
   "metadata": {},
   "source": [
    "INSERT / UPDATE SERVICE "
   ]
  },
  {
   "cell_type": "code",
   "execution_count": null,
   "metadata": {},
   "outputs": [],
   "source": [
    "### insert / update service  example ###\n",
    "from dbconnection import DbService \n",
    "dbservice = DbService()\n",
    "\n",
    "info = {\n",
    "    \"title\": \"skin treatments\",\n",
    "    \"description\" :\"skin treatments\",\n",
    "    \"ar_title\" : \"حب الشباب\",\n",
    "    \"ar_description\": \"علاجات حب الشباب\",\n",
    "    \"keywords\": [\"acne\", \"dark circles\"],\n",
    "    \"ar_keywords\": [\"حب شباب\",\"هالات سوداء\"] \n",
    "\n",
    "}\n",
    "#dbservice.insert_service(3,\"dark spots\",True, info)\n",
    "dbservice.update_service(2,\"dark spots\",True, info)"
   ]
  },
  {
   "cell_type": "markdown",
   "metadata": {},
   "source": [
    "UPDATE INSERT WORKING DAYS & HRS "
   ]
  },
  {
   "cell_type": "code",
   "execution_count": null,
   "metadata": {},
   "outputs": [],
   "source": [
    "### insert / update service  example ###\n",
    "from dbconnection import DbService \n",
    "dbservice = DbService()\n",
    "\n",
    "info = {\n",
    "   \"days\": [\n",
    "     \n",
    "     {\"title\" : \"Sunday\", \"timings\": [{\"start\":\"08:00\", \"end\":\"13:00\"}, {\"start\":\"15:00\", \"end\":\"20:30\"}] },\n",
    "     {\"title\" : \"Monday\", \"timings\": [{\"start\":\"08:00\", \"end\":\"13:00\"}, {\"start\":\"15:00\", \"end\":\"20:30\"}] },\n",
    "     {\"title\" : \"Tuesday\", \"timings\": [{\"start\":\"08:00\", \"end\":\"13:00\"}, {\"start\":\"15:00\", \"end\":\"20:30\"}] },\n",
    "     {\"title\" : \"Wednesday\", \"timings\": [{\"start\":\"08:00\", \"end\":\"13:00\"}, {\"start\":\"15:00\", \"end\":\"20:30\"}] },\n",
    "     {\"title\" : \"Thursday\", \"timings\": [{\"start\":\"08:00\", \"end\":\"13:00\"}, {\"start\":\"15:00\", \"end\":\"20:30\"}] },\n",
    "     {\"title\" : \"Saturday\", \"timings\": [{\"start\":\"12:00\", \"end\":\"16:00\"}, {\"start\":\"15:00\", \"end\":\"20:30\"}] }\n",
    "   ] \n",
    "\n",
    "}\n",
    "#dbservice.insert_service(3,\"dark spots\",True, info)\n",
    "dbservice.insert_service_working_days(3, info)\n",
    "#dbservice.update_service_working_days(3, info)\n",
    "results = dbservice.list_service_working_days(3)\n",
    "print(results)"
   ]
  },
  {
   "cell_type": "markdown",
   "metadata": {},
   "source": [
    "ADD EXCEPTION HRS (NOT AVAILABLE)"
   ]
  },
  {
   "cell_type": "code",
   "execution_count": null,
   "metadata": {},
   "outputs": [],
   "source": [
    "from datetimerange import DateTimeRange\n",
    "from datetime import datetime\n",
    "excep_from_date = datetime.strptime(\"25-11-2022 11:30\",'%d-%m-%Y %H:%M')\n",
    "excep_to_date = datetime.strptime(\"25-11-2022 12:30\", '%d-%m-%Y %H:%M')\n",
    "\n",
    "#dbservice.insert_working_hrs_exception(3,excep_from_date,excep_to_date)\n"
   ]
  },
  {
   "cell_type": "markdown",
   "metadata": {},
   "source": [
    "INSERT APPOINTMENT "
   ]
  },
  {
   "cell_type": "code",
   "execution_count": null,
   "metadata": {},
   "outputs": [],
   "source": [
    "\n",
    "import datetime as dt\n",
    "from datetime import datetime\n",
    "from datetime import time\n",
    "from errno import ETIME\n",
    "service_def_id = 3\n",
    "date_of_interest = datetime.strptime(\"25-11-2022 09:30:00\",'%d-%m-%Y %H:%M:%S')\n",
    "## service_def_id , name, phoe, datetime, status (1 for new)\n",
    "dbservice.insert_appointment(3,\"James K\",\"12345555\",date_of_interest,1)"
   ]
  },
  {
   "cell_type": "markdown",
   "metadata": {},
   "source": [
    "LIST VALID APPOINTMENTS BY FROM DATE AND PHONE"
   ]
  },
  {
   "cell_type": "code",
   "execution_count": null,
   "metadata": {},
   "outputs": [],
   "source": [
    "import datetime as dt\n",
    "from datetime import datetime\n",
    "from datetime import time\n",
    "from dbconnection import DbService \n",
    "dbservice = DbService()\n",
    "\n",
    "from_date = datetime.strptime(\"25-11-2022 12:30\", '%d-%m-%Y %H:%M')\n",
    "\n",
    "result = dbservice.list_valid_appointments_by_phone(3,from_date,\"+96812345678\")\n",
    "print(result)"
   ]
  },
  {
   "cell_type": "markdown",
   "metadata": {},
   "source": [
    "LIST VALID APPOINTMENTS BY DATE"
   ]
  },
  {
   "cell_type": "code",
   "execution_count": null,
   "metadata": {},
   "outputs": [],
   "source": [
    "apps = dbservice.list_valid_appointments_by_phone(3,excep_from_date)"
   ]
  },
  {
   "cell_type": "markdown",
   "metadata": {},
   "source": [
    "GET AVAILABLE SLOTS FOR A SPECIFIC DATE\n",
    "\n",
    "CALL get_available_slots_by_date(date_of_interest, service_def_id)"
   ]
  },
  {
   "cell_type": "code",
   "execution_count": null,
   "metadata": {},
   "outputs": [],
   "source": [
    "from dbconnection import DbService \n",
    "dbservice = DbService()\n",
    "from datetimerange import DateTimeRange\n",
    "import datetime as dt\n",
    "from datetime import datetime\n",
    "from datetime import time\n",
    "from errno import ETIME\n",
    "DURATION = 30\n",
    "def getNameOfWeek(n):\n",
    "    if n == 0:\n",
    "        return 'Monday'\n",
    "    if n == 1:\n",
    "        return 'Tuesday'\n",
    "    if n == 2:\n",
    "        return 'Wednesday'\n",
    "    if n == 3:\n",
    "        return 'Thursday'\n",
    "    if n == 4:\n",
    "        return 'Thursday'\n",
    "    if n == 5:\n",
    "        return 'Saturday'\n",
    "    if n == 6:\n",
    "        return 'Sunday'\n",
    "\n",
    "def get_valid_slots_by_day(start_apt_date, days_of_week):\n",
    "    day_name = getNameOfWeek(start_apt_date.weekday()).lower()\n",
    "    print(day_name)\n",
    "    for item in days_of_week:\n",
    "        print(item)\n",
    "        if item['title'].lower() == day_name:\n",
    "            final_slots = []\n",
    "            for timerange in item['timings']:\n",
    "                start_date_time = datetime.combine(start_apt_date.date(), time.fromisoformat(timerange['start']))\n",
    "                end_date_time = datetime.combine(start_apt_date.date(), time.fromisoformat(timerange['end']))\n",
    "                while start_date_time + dt.timedelta(minutes=DURATION) <= end_date_time:\n",
    "                      final_slots.append(start_date_time)\n",
    "                      start_date_time = start_date_time + dt.timedelta(minutes=DURATION)\n",
    "\n",
    "            return final_slots\n",
    "\n",
    "    return []\n",
    "\n",
    "def get_available_slots(date_of_interest,appointments, working_days, exception_dates, duration=30):\n",
    "    \n",
    "    available_slots = get_valid_slots_by_day(date_of_interest,working_days['info']['days'])\n",
    "    final_slots = []\n",
    "    if len(available_slots) > 0:\n",
    "        for slot in available_slots:\n",
    "            print(\"checking slot \" + str(slot))\n",
    "            available_slot_start_time = slot + dt.timedelta(minutes=1)\n",
    "            available_slot_end_time = slot + dt.timedelta(minutes=DURATION - 1)\n",
    "            time_range1 = DateTimeRange(available_slot_start_time, available_slot_end_time)\n",
    "            is_available = True\n",
    "            for appointment in appointments:\n",
    "                    start_time = appointment['appointment_date'] \n",
    "                    end_time =   appointment['appointment_date'] + dt.timedelta(minutes=DURATION)\n",
    "                    time_range2 = DateTimeRange(start_time,end_time) \n",
    "                    if time_range1.intersection(time_range2).start_datetime != None:\n",
    "                       is_available = False\n",
    "                       print('conflict with ' + str(time_range2))\n",
    "                       break\n",
    "                    for exc_date in exception_dates:\n",
    "                        start_time = exc_date['exception_from_date'] \n",
    "                        end_time =   exc_date['exception_to_date'] \n",
    "                        time_range2 = DateTimeRange(start_time,end_time) \n",
    "                        if time_range1.intersection(time_range2).start_datetime != None:\n",
    "                            is_available = False\n",
    "                            break\n",
    "            if is_available:\n",
    "                final_slots.append(slot)\n",
    "                \n",
    "            else: \n",
    "                print('not available')\n",
    "\n",
    "    return final_slots\n",
    "\n",
    "def get_available_slots_by_date(date_of_interest, service_def_id):\n",
    "    appointments = dbservice.list_valid_appointments_by_date(3,date_of_interest)\n",
    "    exception_dates = dbservice.list_service_working_hrs_exception_by_date(service_def_id, date_of_interest)\n",
    "    working_days = dbservice.list_service_working_days(service_def_id)\n",
    "    slots = get_available_slots(date_of_interest,appointments, working_days, exception_dates, duration=30)\n",
    "    return slots\n",
    "\n",
    "\n",
    "date_of_interest = datetime.strptime(\"25-11-2022 00:00:00\",'%d-%m-%Y %H:%M:%S')\n",
    "\n",
    "slots = get_available_slots_by_date(date_of_interest, 3)"
   ]
  },
  {
   "cell_type": "markdown",
   "metadata": {},
   "source": [
    "INSERT SUGGESTION "
   ]
  },
  {
   "cell_type": "code",
   "execution_count": 4,
   "metadata": {},
   "outputs": [
    {
     "name": "stdout",
     "output_type": "stream",
     "text": [
      "init\n"
     ]
    },
    {
     "data": {
      "text/plain": [
       "1"
      ]
     },
     "execution_count": 4,
     "metadata": {},
     "output_type": "execute_result"
    }
   ],
   "source": [
    "from dbconnection import DbService \n",
    "dbservice = DbService()\n",
    "\n",
    "dbservice.insert_suggestion(3,\"nadir\",\"123456\",\"Can you support additional languages\")"
   ]
  },
  {
   "cell_type": "markdown",
   "metadata": {},
   "source": [
    "LIST SUGGESTIONS"
   ]
  },
  {
   "cell_type": "code",
   "execution_count": 1,
   "metadata": {},
   "outputs": [
    {
     "name": "stdout",
     "output_type": "stream",
     "text": [
      "init\n"
     ]
    },
    {
     "data": {
      "text/plain": [
       "[{'id': 1,\n",
       "  'company_id': 3,\n",
       "  'customer_name': 'nadir',\n",
       "  'customer_phone': '123456',\n",
       "  'suggestion_text': 'Can you support additional languages',\n",
       "  'date_received': datetime.datetime(2022, 11, 8, 23, 49)}]"
      ]
     },
     "execution_count": 1,
     "metadata": {},
     "output_type": "execute_result"
    }
   ],
   "source": [
    "from dbconnection import DbService \n",
    "dbservice = DbService()\n",
    "\n",
    "dbservice.list_suggestions(3)"
   ]
  },
  {
   "cell_type": "markdown",
   "metadata": {},
   "source": [
    "INSERT PROMOTION"
   ]
  },
  {
   "cell_type": "code",
   "execution_count": 2,
   "metadata": {},
   "outputs": [
    {
     "name": "stdout",
     "output_type": "stream",
     "text": [
      "init\n"
     ]
    },
    {
     "data": {
      "text/plain": [
       "1"
      ]
     },
     "execution_count": 2,
     "metadata": {},
     "output_type": "execute_result"
    }
   ],
   "source": [
    "from dbconnection import DbService \n",
    "dbservice = DbService()\n",
    "\n",
    "dbservice.insert_promotion(3,\"تخفيضات العيد\",\"تخفيضات تصل الى 40% على جميع الخدمات لغاية نهاية الشهر\",1)"
   ]
  },
  {
   "cell_type": "markdown",
   "metadata": {},
   "source": [
    "LIST PROMOTION"
   ]
  },
  {
   "cell_type": "code",
   "execution_count": 3,
   "metadata": {},
   "outputs": [
    {
     "data": {
      "text/plain": [
       "[{'id': 1,\n",
       "  'company_id': 3,\n",
       "  'title': 'تخفيضات العيد',\n",
       "  'promotion_text': 'تخفيضات تصل الى 40% على جميع الخدمات لغاية نهاية الشهر',\n",
       "  'active': 1}]"
      ]
     },
     "execution_count": 3,
     "metadata": {},
     "output_type": "execute_result"
    }
   ],
   "source": [
    "dbservice.list_valid_promotions(3)"
   ]
  },
  {
   "cell_type": "code",
   "execution_count": null,
   "metadata": {},
   "outputs": [],
   "source": []
  }
 ],
 "metadata": {
  "kernelspec": {
   "display_name": "Python 3.9.5 ('myvenv': venv)",
   "language": "python",
   "name": "python3"
  },
  "language_info": {
   "codemirror_mode": {
    "name": "ipython",
    "version": 3
   },
   "file_extension": ".py",
   "mimetype": "text/x-python",
   "name": "python",
   "nbconvert_exporter": "python",
   "pygments_lexer": "ipython3",
   "version": "3.9.5"
  },
  "orig_nbformat": 4,
  "vscode": {
   "interpreter": {
    "hash": "67a3c7aaa7fa1339781785b4e70b04db7d2774a5699bd9dd665cf193c161129d"
   }
  }
 },
 "nbformat": 4,
 "nbformat_minor": 2
}
